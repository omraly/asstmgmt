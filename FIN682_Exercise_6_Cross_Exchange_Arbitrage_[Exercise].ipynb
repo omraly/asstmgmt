{
  "cells": [
    {
      "cell_type": "markdown",
      "metadata": {
        "id": "view-in-github",
        "colab_type": "text"
      },
      "source": [
        "<a href=\"https://colab.research.google.com/github/omraly/asstmgmt/blob/main/FIN682_Exercise_6_Cross_Exchange_Arbitrage_%5BExercise%5D.ipynb\" target=\"_parent\"><img src=\"https://colab.research.google.com/assets/colab-badge.svg\" alt=\"Open In Colab\"/></a>"
      ]
    },
    {
      "cell_type": "markdown",
      "id": "dc6cbae0-ee25-4cc1-8451-3d7d9dd8eb17",
      "metadata": {
        "id": "dc6cbae0-ee25-4cc1-8451-3d7d9dd8eb17",
        "tags": []
      },
      "source": [
        "# FIN 682 Exercise: Cross-Exchange Arbitrage\n",
        "\n",
        "**Final**\n",
        "\n",
        "*This version: 2023-04-11*\n",
        "\n",
        "On Google Colab: [https://colab.research.google.com/drive/1pB4N_UgI8sOMz-EmMpX-JIbJg6cxIHNN](https://colab.research.google.com/drive/1pB4N_UgI8sOMz-EmMpX-JIbJg6cxIHNN)"
      ]
    },
    {
      "cell_type": "markdown",
      "source": [
        "## Why is it worth learning Python?\n",
        "\n",
        "- *Popularity*: Python is one of the most popular programming languages ([Source](https://www.northeastern.edu/graduate/blog/most-popular-programming-languages/)) and is extensively used in the financial services industry and asset management.\n",
        "- *Transferable skills*: You will acquire the concepts (such as variables, data types, loops, if-statements, ...), which other programming languages also have. Thus, if you work for a company that happens to use a different programming language, you will be able to transition quickly.\n",
        "- *Package ecosystem*: Python has a rich and well-developed package ecosystem. Packages help you to use code that others have already written, which helps to save a lot of time with common problems.\n",
        "- *Open source*: There is no license required to run Python. Thus, you can run it on as many computers as you like, don't need to renew it, and are not dependent on your university or employer to pay for a subscription.\n",
        "\n",
        "### What can Python be used for in your studies?\n",
        "- Empirical seminar or master theses can be done in Python.\n",
        "- It could be the difference between you getting the internship or someone else.\n",
        "\n",
        "\n",
        "\n",
        "### What can Python be used for in your future career?\n",
        "- *Data analysis*: Handling, cleaning and analyzing large datasets is very easy.\n",
        "- *Automation*: Due to its flexibility, almost anything can be automated in Python. For example, generating reports from a large number of input files\n",
        "- *Machine learning*: Python is the most popular language for working with (and developing) machine learning models. Just ask ChatGPT \"Which language was ChatGPT programmed in?\" -> Python.\n",
        "- *Asset management*: Many uses in asset management, such as algorithmic trading, backtesting, and portfolio optimization."
      ],
      "metadata": {
        "id": "-K8kgsZz_0I6"
      },
      "id": "-K8kgsZz_0I6"
    },
    {
      "cell_type": "markdown",
      "id": "c281fbe2-39a8-43a1-809e-b4389e71ee99",
      "metadata": {
        "id": "c281fbe2-39a8-43a1-809e-b4389e71ee99"
      },
      "source": [
        "## How to get started with this exercise\n",
        "\n",
        "### Recommended way: Google Colab\n",
        "\n",
        "Go to the link at the top of document, add the file to your own drive (\"File\" -> \"Save a copy to Drive\") and start using it. Google's official introduction to Colab can be found here: [https://colab.research.google.com/notebook?authuser=1](https://colab.research.google.com/notebook?authuser=1)\n",
        "\n",
        "You do **not** need to download the data file from ILIAS if you are using Google Colab.\n",
        "\n",
        "### Alternative ways\n",
        "\n",
        "This way is not recommended. Google Colab is significantly simpler to set up.\n",
        "If you watched tutorials that do not use Colab, you should know that you can simply copy-paste the code into Colab.\n",
        "\n",
        "If you are an advanced user, I'm sure you know how to get up and running."
      ]
    },
    {
      "cell_type": "markdown",
      "id": "0684bc35-f9e4-4669-955d-18b3fea377ad",
      "metadata": {
        "id": "0684bc35-f9e4-4669-955d-18b3fea377ad"
      },
      "source": [
        "## Notes\n",
        "**Please note that *programming* is not relevant for the exam.**\n",
        "You will NOT be asked something like \"please write some code to do ...\".\n",
        "You could however be asked something about the *ideas* behind the code.\n",
        "\n",
        "The goal of this exercise is to give interested students the possibility to work with real-world data using Python, which is widely used in the industry.\n",
        "\n",
        "### Using Python\n",
        "\n",
        "In general, you can find great tutorials on YouTube.\n",
        "For your convenience, here are a few examples:\n",
        "\n",
        "- [Starting point for beginners](https://www.youtube.com/watch?v=dT_XDTarsjw&t=45s) that explains data types, logic, etc.\n",
        "\n",
        "- [Google's official introduction to Colab](https://colab.research.google.com/notebook?authuser=1) also contains some good introductory examples and explains the usage of the so-called \"notebooks\" and useful keyboard shortcuts\n",
        "\n",
        "- [Overview over pandas](https://www.youtube.com/watch?v=kHHym9neKRs)\n",
        "    - One of Python's main data structures are pandas DataFrames. This video gives you an overview\n",
        "    - Take a look at the [official pandas cheat sheet](https://pandas.pydata.org/Pandas_Cheat_Sheet.pdf)\n",
        "\n",
        "If you follow a tutorial from YouTube or another source, many recommend installing VSCode, PyCharm, Anaconda, or other programs.\n",
        "While these programs are great, if you are just starting out, Google Colab is the easiest choice.\n",
        "**You can copy the code you have from the other tutorial into a code cell and execute it just like in the other tools.**\n",
        "Take a look at Google's official introduction to Colab, which explains the concept of notebooks very well.\n",
        "\n",
        "#### Online courses\n",
        "You can also follow courses from sites such as\n",
        "- [Coursera](https://www.coursera.org/courses?query=python)\n",
        "- [w3school](https://www.w3resource.com/python/python-tutorial.php)\n",
        "- [codecademy](https://www.codecademy.com/catalog/language/python)\n",
        "\n",
        "<!-- ### How does programming typically work\n",
        "- Use a tutorial to get up and running with the basics\n",
        "- Follow the tutorial and try to *understand* why something is happening / done a certain way\n",
        "- Try to change the code in the tutorials in your own notebook and check whether the outcome is as expected\n",
        "- You will get a hang of the basics\n",
        "- Step out of the tutorial and try different tasks, e.g. this exercise\n",
        "- You WILL run into issues (sooner or later)\n",
        "- Use the tools in the \"Where to find more help section\"\n",
        "- Try to understand the suggestions you receive\n",
        "- Adapt them to your code and try again -->\n",
        "\n",
        "### Where to find more help\n",
        "- For specific questions: Using your favorite search engine, \"python [question]\" or \"pandas [question]\" (if working with a pandas DataFrame) typically gives very good results. Potential sites will be:\n",
        "  - StackOverflow\n",
        "  - The documentation of the packages, e.g. [pandas](https://pandas.pydata.org/docs/user_guide/index.html)\n",
        "- [ChatGPT](https://chat.openai.com/chat) also has the ability to produce code. Note: You should not blindly use this tool without\n",
        "  - Trying yourself first (otherwise you won't think the problem through properly)\n",
        "  - *Understanding* why and how the answer works\n",
        "  - Keeping in mind that you will get imperfect results\n",
        "  - It is very good at explaining code, so try to make use of that if you struggle with certain concepts (e.g. data types, functions, ...)\n",
        "    - Example prompt: `I'm using Python. Explain how a for loop works.`\n",
        "- For a broader overview: YouTube has great tutorials that cater to every taste\n"
      ]
    },
    {
      "cell_type": "markdown",
      "id": "fbfc2e40-2ed1-4d8b-a2c5-a86e311f2608",
      "metadata": {
        "id": "fbfc2e40-2ed1-4d8b-a2c5-a86e311f2608"
      },
      "source": [
        "## General description\n",
        "\n",
        "The raw data was downloaded from [cryptodatadownload.com](https://www.cryptodatadownload.com/data/).\n",
        "We will be looking at the 2021 minute-frequency price data of Ethereum, the second largest cryptocurrency after Bitcoin.\n",
        "The exchanges we study are Gemini, Bitstamp and Bitfinex.\n",
        "\n",
        "If you are using Google Colab (as recommended) you do not need to use the data file. It will be downloaded automatically!\n",
        "\n",
        "You only need to run the code below. To do so, you can use the \"play\"-button or you can use the keyboard shortcut \"Shift+Enter\".\n",
        "\n",
        "The code blocks you see below are called \"cells\". When you execute a cell, only the code within the cell will be run, but no code in other cells. See [Google's official introduction to Colab](https://colab.research.google.com/notebook?authuser=1) for more details about the notebook format."
      ]
    },
    {
      "cell_type": "markdown",
      "id": "e90e0e1a-9b9f-4ac2-97cf-de8c25d9c907",
      "metadata": {
        "id": "e90e0e1a-9b9f-4ac2-97cf-de8c25d9c907",
        "jp-MarkdownHeadingCollapsed": true,
        "tags": []
      },
      "source": [
        "## Assumptions\n",
        "We make the following assumptions. Some of them will be relaxed during the following exercises.\n",
        "\n",
        "- Trades can be executed immediately (no delay)\n",
        "- No transaction costs\n",
        "- Naked short sales are possible\n",
        "- You always have enough USD available on the exchanges for your purchases\n",
        "- No bid-ask spread, i.e. we can trade in both directions at the given price\n",
        "- No limits to arbitrage, e.g. slippage / price impact\n",
        "- Trades are only executed in 2021, i.e. you cannot trade in 2020 or 2022\n",
        "\n",
        "Each part A - E is separate from the others. The assumptions are 'reset' when moving to the next part. Within each part, assumptions are kept."
      ]
    },
    {
      "cell_type": "markdown",
      "id": "4dc9f0cf-ca53-493e-bfb7-7b46e1e6d3b0",
      "metadata": {
        "id": "4dc9f0cf-ca53-493e-bfb7-7b46e1e6d3b0",
        "tags": []
      },
      "source": [
        "## Initialization code"
      ]
    },
    {
      "cell_type": "code",
      "execution_count": null,
      "id": "804f3e0e-9e34-4d6d-ae37-31ab6044d890",
      "metadata": {
        "cell_style": "center",
        "id": "804f3e0e-9e34-4d6d-ae37-31ab6044d890",
        "tags": [],
        "cellView": "form"
      },
      "outputs": [],
      "source": [
        "#@title Imports (just click the play button)\n",
        "\n",
        "################################################################################\n",
        "# Importing the modules\n",
        "################################################################################\n",
        "import numpy as np  # For data wrangling\n",
        "import pandas as pd  # For data wrangling\n",
        "import matplotlib # For plotting\n",
        "import matplotlib.pyplot as plt # For plotting\n",
        "import seaborn as sns  # Optional. For plotting\n",
        "from scipy.optimize import bisect  # For optimization in part c\n",
        "\n",
        "# Optional: Set some styling to make the plots look nicer\n",
        "sns.set_theme(style=\"darkgrid\")\n",
        "sns.set_context(\"notebook\")\n",
        "\n",
        "from pathlib import Path  # For working with files and folders.\n",
        "\n",
        "from tqdm import tqdm  # Optional: For progress bars (for intermediate to advanced users)\n",
        "# Section 3.1 should be all we need for this exercise\n",
        "# https://www.kaggle.com/code/nikhilkhetan/tqdm-tutorial#3.1-Iterable-based\n",
        "\n",
        "# Set the size of plots\n",
        "matplotlib.rcParams['figure.figsize'] = (10, 8)\n",
        "\n",
        "\n",
        "\n",
        "################################################################################\n",
        "# Load the input file\n",
        "################################################################################\n",
        "\n",
        "\n",
        "# No need to unzip the file\n",
        "filename = \"eth_1minute_2021.zip\"\n",
        "\n",
        "try:\n",
        "    # Using Google Colab\n",
        "    from google.colab import files\n",
        "\n",
        "    # Do not change this\n",
        "    datadir = Path(\"/content\")\n",
        "\n",
        "    fn = datadir / filename\n",
        "\n",
        "    # Only upload the file when it doesn't exist\n",
        "    if not fn.is_file():\n",
        "\n",
        "        # Select the file to upload\n",
        "        import os\n",
        "        os.system('gdown 1VooMOCthvvusfbp2e-gLeGY8VCxJwFV4')\n",
        "\n",
        "\n",
        "except ModuleNotFoundError:\n",
        "    # Not using Google Colab\n",
        "\n",
        "    # CHANGE THIS!\n",
        "    datadir = (\n",
        "        Path().cwd()\n",
        "    )  # Or something like Path(\"c:/Program Files/PSF\"). Note that backslashes \"\\\" are entered as forward slashes \"/\".\n",
        "    fn = datadir / filename\n",
        "\n",
        "# Load the data into a pandas DataFrame\n",
        "prices = pd.read_csv(fn, index_col=[0], parse_dates=[0])"
      ]
    },
    {
      "cell_type": "markdown",
      "source": [
        "What does the input data look like? It's a large table with 3 columns for the three exchanges.\n",
        "\n",
        "Each row represents the price at a specific point in time."
      ],
      "metadata": {
        "id": "Cmq4_497CG9S"
      },
      "id": "Cmq4_497CG9S"
    },
    {
      "cell_type": "code",
      "execution_count": null,
      "id": "d8083982-1af3-4721-94a8-c843f0449941",
      "metadata": {
        "colab": {
          "base_uri": "https://localhost:8080/"
        },
        "id": "d8083982-1af3-4721-94a8-c843f0449941",
        "outputId": "c12073fe-6a24-4698-f759-1f819096f5ce"
      },
      "outputs": [
        {
          "output_type": "stream",
          "name": "stdout",
          "text": [
            "| date                |   gemini |   bitstamp |   bitfinex |\n",
            "|:--------------------|---------:|-----------:|-----------:|\n",
            "| 2021-01-01 00:00:00 |   737.39 |    736.805 |     736.22 |\n",
            "| 2021-01-01 00:01:00 |   738.34 |    738.63  |     736.76 |\n"
          ]
        }
      ],
      "source": [
        "print(prices.head(2).to_markdown())"
      ]
    },
    {
      "cell_type": "markdown",
      "id": "4ea1c5ab-087f-4e20-a644-b9cf52da19fc",
      "metadata": {
        "id": "4ea1c5ab-087f-4e20-a644-b9cf52da19fc",
        "tags": []
      },
      "source": [
        "## Part A (Basic strategy)\n",
        "\n",
        "1. What was the highest price observed in 2021?\n",
        "  *Hint: You can use the [max method](https://pandas.pydata.org/pandas-docs/stable/reference/api/pandas.DataFrame.max.html) of DataFrames*\n",
        "2. What was the lowest price observed in 2021? On which exchange was it?\n",
        "  *Hint: You can use the [min](https://pandas.pydata.org/pandas-docs/stable/reference/api/pandas.DataFrame.min.html) and [idxmin](https://pandas.pydata.org/pandas-docs/stable/reference/api/pandas.DataFrame.idxmin.html) methods of DataFrames*\n",
        "3. What was the maximum price difference between the cheapest and most expensive price on each exchange? Use DataFrame methods to solve this!\n",
        "4. What was the cheapest price in each minute? Show the first 10 minutes. *Hint: The min and max methods have an 'axis' keyword. You can use [iloc](https://pandas.pydata.org/pandas-docs/stable/reference/api/pandas.DataFrame.iloc.html) to get the first ten rows.*\n",
        "5. What was the average price in 2021 on Gemini? *Hint: Look up the pandas documentation for something along the lines of average or mean. You can also look for the documentation on the 'loc' method.*\n",
        "6. Write a function that takes an exchange as an argument and prints the average price in 2021. An example result should be \"The average price on bitfinex was USD 100\". Test the function with bitfinex. *Hint: Info on [functions](https://www.geeksforgeeks.org/python-functions/). Use an [f-string](https://www.geeksforgeeks.org/formatted-string-literals-f-strings-python/) for printing.*\n",
        "7. Use a [for loop](https://www.geeksforgeeks.org/python-for-loops/) to run your function from part 6 for all three exchanges. *Hint: You can get the exchanges from the [column names](https://pandas.pydata.org/pandas-docs/stable/reference/api/pandas.DataFrame.columns.html) of the DataFrame.*\n",
        "8. Your trading strategy is (in each minute) to sell one unit on the most expensive exchange and at the same time buy one unit on the cheapest exchange.\n",
        "  How much profit can you make over the entire year? Use the DataFrame methods from part 1 and 2. Do not use a loop.\n",
        "9. Make a second DataFrame called `prices_first_10` by using the knowledge from part 4. Then, use a comparison to show which values are greater than or equal to `738`. Store the result in `high_prices` and take a look at it. *Hint: Use a [boolean comparison](https://pandas.pydata.org/pandas-docs/stable/reference/api/pandas.DataFrame.ge.html)*\n",
        "10. Do the same for low prices below `736`. Store it in `low_prices`.\n",
        "11. Multiply the high_prices with 1 and the low_prices with -1. What do you notice compared to the orginal DataFrames from parts 9 and 10? Overwrite the DataFrames with your newly multiplied versions. *Hint: You can use the [multiply method](https://pandas.pydata.org/pandas-docs/stable/reference/api/pandas.DataFrame.multiply.html)*\n",
        "12. Combine the two DataFrames by adding them. Store the result in a variable called `prices_first_10_mask`.\n",
        "13. Now multiply `prices_first_10` with `prices_first_10_mask`. What do you notice? What happened to the elements?\n",
        "14. A mask, called `prices_first_10_signal` is provided below. Verify that this mask has a row-wise sum of 0. Multiply this mask with `prices_first_10` and obtain the sum of the row-wise sums. What is the economic interpretation of what you calculated? How does this relate to part 8?\n"
      ]
    },
    {
      "cell_type": "markdown",
      "source": [
        "### 14) Trading signals"
      ],
      "metadata": {
        "id": "V5XIUnohTx0Q"
      },
      "id": "V5XIUnohTx0Q"
    },
    {
      "cell_type": "code",
      "source": [
        "#@title Data for part 14\n",
        "# This code initializes a mask with a row-wise sum of 0.\n",
        "# It represents buys (1) and sells (-1)\n",
        "prices_first_10_signal = pd.DataFrame(\n",
        "    {\n",
        "        \"gemini\": {\n",
        "            pd.Timestamp(\"2021-01-01 00:00:00\"): 1,\n",
        "            pd.Timestamp(\"2021-01-01 00:01:00\"): 0,\n",
        "            pd.Timestamp(\"2021-01-01 00:02:00\"): 1,\n",
        "            pd.Timestamp(\"2021-01-01 00:03:00\"): 1,\n",
        "            pd.Timestamp(\"2021-01-01 00:04:00\"): 1,\n",
        "            pd.Timestamp(\"2021-01-01 00:05:00\"): 1,\n",
        "            pd.Timestamp(\"2021-01-01 00:06:00\"): 1,\n",
        "            pd.Timestamp(\"2021-01-01 00:07:00\"): 1,\n",
        "            pd.Timestamp(\"2021-01-01 00:08:00\"): 1,\n",
        "            pd.Timestamp(\"2021-01-01 00:09:00\"): 1,\n",
        "        },\n",
        "        \"bitstamp\": {\n",
        "            pd.Timestamp(\"2021-01-01 00:00:00\"): 0,\n",
        "            pd.Timestamp(\"2021-01-01 00:01:00\"): 1,\n",
        "            pd.Timestamp(\"2021-01-01 00:02:00\"): 0,\n",
        "            pd.Timestamp(\"2021-01-01 00:03:00\"): 0,\n",
        "            pd.Timestamp(\"2021-01-01 00:04:00\"): 0,\n",
        "            pd.Timestamp(\"2021-01-01 00:05:00\"): 0,\n",
        "            pd.Timestamp(\"2021-01-01 00:06:00\"): 0,\n",
        "            pd.Timestamp(\"2021-01-01 00:07:00\"): 0,\n",
        "            pd.Timestamp(\"2021-01-01 00:08:00\"): 0,\n",
        "            pd.Timestamp(\"2021-01-01 00:09:00\"): 0,\n",
        "        },\n",
        "        \"bitfinex\": {\n",
        "            pd.Timestamp(\"2021-01-01 00:00:00\"): -1,\n",
        "            pd.Timestamp(\"2021-01-01 00:01:00\"): -1,\n",
        "            pd.Timestamp(\"2021-01-01 00:02:00\"): -1,\n",
        "            pd.Timestamp(\"2021-01-01 00:03:00\"): -1,\n",
        "            pd.Timestamp(\"2021-01-01 00:04:00\"): -1,\n",
        "            pd.Timestamp(\"2021-01-01 00:05:00\"): -1,\n",
        "            pd.Timestamp(\"2021-01-01 00:06:00\"): -1,\n",
        "            pd.Timestamp(\"2021-01-01 00:07:00\"): -1,\n",
        "            pd.Timestamp(\"2021-01-01 00:08:00\"): -1,\n",
        "            pd.Timestamp(\"2021-01-01 00:09:00\"): -1,\n",
        "        },\n",
        "    }\n",
        ")\n"
      ],
      "metadata": {
        "id": "NQmuLpgGSG8d",
        "cellView": "form"
      },
      "id": "NQmuLpgGSG8d",
      "execution_count": null,
      "outputs": []
    },
    {
      "cell_type": "markdown",
      "id": "babe96a5-4363-4454-b766-24398d69dbec",
      "metadata": {
        "id": "babe96a5-4363-4454-b766-24398d69dbec",
        "tags": []
      },
      "source": [
        "## Part B (Delayed execution)\n",
        "\n",
        "**Assumptions**\n",
        "\n",
        "- ~~Trades can be executed immediately (no delay)~~ \\[As specified\\]\n",
        "- No transaction costs\n",
        "- Naked short sales are possible\n",
        "- You always have enough USD available on the exchanges for your purchases\n",
        "- No bid-ask spread, i.e. we can trade in both directions at the given price\n",
        "- No limits to arbitrage, e.g. slippage / price impact\n",
        "- Trades are only executed in 2021, i.e. you cannot trade in 2020 or 2022\n",
        "\n",
        "---\n",
        "\n",
        "A general note: Creating a DataFrame with the same rows and columns as the `prices`-DataFrame, but with buy and sell directions might be very useful.\n",
        "Elementwise multiplication can then be done using the [multiply method](https://pandas.pydata.org/pandas-docs/stable/reference/api/pandas.DataFrame.multiply.html).\n",
        "\n",
        "\n",
        "It might look like this (let's call it 'signal' DataFrame):\n",
        "\n",
        "| date                |   gemini |   bitstamp |   bitfinex |\n",
        "|:--------------------|---------:|-----------:|-----------:|\n",
        "| 2021-01-01 00:00:00 |        1 |          0 |         -1 |\n",
        "| 2021-01-01 00:01:00 |        0 |          1 |         -1 |\n",
        "\n",
        "\n",
        "You should keep in mind that the signal DataFrame can represent USD or ETH trade directions. You should ensure that if you want to calculate USD profits, your signal DataFrame is set up appropriately. In that case, you should represent buying with -1 (since you have a USD outflow to pay for the Ether) and selling with 1 (since you have a USD inflow).\n",
        "\n",
        "\n",
        "---\n",
        "\n",
        "1. Now assume that your trading software takes 1 minute to execute a trade.\n",
        "    This means that once you commit to your trade, you will get the next period's prices (for both buy and sell).\n",
        "    Think about your expectations: What would you expect to happen to your profit when you increase the delay?\n",
        "    Now calculate the profit: Is your strategy still profitable and what would the potential profit / loss be?\n",
        "    Make the delay a variable in minutes.\n",
        "    *Hint: The [shift method](https://pandas.pydata.org/pandas-docs/stable/reference/api/pandas.DataFrame.shift.html) might be useful*\n",
        "\n",
        "2. \n",
        "    Calculate the profit of your strategy for delays in the range from 1 to 60 (exclude 0) and show them in a line chart.\n",
        "    Interpret your result and provide potential explanations for your observation.\n",
        "    *Hint: Use a '[for loop](https://www.geeksforgeeks.org/python-for-loops/)' to go over a '[range](https://www.geeksforgeeks.org/python-range-function/)' of values; you can use [plot](https://pandas.pydata.org/pandas-docs/stable/reference/api/pandas.DataFrame.plot.html) for the chart*\n",
        "\n",
        "3. Your colleagues mention that as you are adding a larger delay, you are losing trades as you are shifting more and more trades into 2022, which will never be executed.\n",
        "    *Explanation: With a delay of 10 minutes, you spend the first 10 minutes of 2021 doing nothing, just waiting for your software. So you essentially generate an overhang of trades that you would like to execute in 2022. By assumption, these trades will never execute -> yield a zero profit -> you lose potentially profitable trades -> with a greater delay, you mechanically see lower absolute profit.*\n",
        "    \n",
        "    They ask you to calculate the average profit per trade (in USD) instead and plot it dependent on the delay as in part 2. Calculate the profit for delays from 1 DAY to 60 DAYS in steps of 1 day.\n",
        "    *Hint: You can use the [step size of the range function](https://www.geeksforgeeks.org/python-range-function/)*."
      ]
    },
    {
      "cell_type": "markdown",
      "id": "506d7e7c-b48c-4384-bb8d-d1a0733aba26",
      "metadata": {
        "id": "506d7e7c-b48c-4384-bb8d-d1a0733aba26",
        "tags": []
      },
      "source": [
        "## Part C (Transaction costs)\n",
        "\n",
        "**Assumptions**\n",
        "\n",
        "- Trades can be executed immediately (no delay)\n",
        "- ~~No transaction costs~~ \\[As specified\\]\n",
        "- Naked short sales are possible\n",
        "- You always have enough USD available on the exchanges for your purchases\n",
        "- No bid-ask spread, i.e. we can trade in both directions at the given price\n",
        "- No limits to arbitrage, e.g. slippage / price impact\n",
        "- Trades are only executed in 2021, i.e. you cannot trade in 2020 or 2022\n",
        "\n",
        "---\n",
        "\n",
        "\n",
        "1. After trading for a while, you realize that transaction costs are eating into your profits.\n",
        "    Assume again that your software does not incur any delay and that you are trading exactly as before, i.e. ignore any transaction costs in your *decision making*.\n",
        "    With transaction costs of [0.4%](https://www.bitstamp.net/fee-schedule/) for each transaction (buy and sell), how much of your profit is left?\n",
        "    *Hint: You can directly incorporate the transaction costs in the 'signal' DataFrame that we created in part B.*\n",
        "\n",
        "2. What is the break even amount of transaction costs (in %) before your trading strategy becomes unprofitable?\n",
        "    *Hint: You can use `from scipy.optimize import bisect`. See the [manual](https://docs.scipy.org/doc/scipy/reference/generated/scipy.optimize.bisect.html) for details. Important: You need to give it a __function__ to optimize*\n",
        "    \n",
        "3. You think that you will be better off if you take transaction costs into account when making a trading decision.\n",
        "    Now, you only trade when your ex-ante expected profit (with transaction costs as of part 1) is positive.\n",
        "    How much profit do you make?\n",
        "\n",
        "4. So far, we have ignored the bid-ask spread.\n",
        "    Briefly describe how a non-zero bid-ask spread could affect your results.\n",
        "    Also discuss slippage and the fundamental difference to transaction costs and the bid-ask spread."
      ]
    },
    {
      "cell_type": "markdown",
      "id": "e40a59b8-b46e-4979-aa8a-153e5cc843a0",
      "metadata": {
        "id": "e40a59b8-b46e-4979-aa8a-153e5cc843a0",
        "tags": []
      },
      "source": [
        "## Part D (Trade balance visualizations)\n",
        "\n",
        "**Assumptions**\n",
        "\n",
        "- Trades can be executed immediately (no delay)\n",
        "- No transaction costs\n",
        "- Naked short sales are possible\n",
        "- You always have enough USD available on the exchanges for your purchases\n",
        "- No bid-ask spread, i.e. we can trade in both directions at the given price\n",
        "- No limits to arbitrage, e.g. slippage / price impact\n",
        "- Trades are only executed in 2021, i.e. you cannot trade in 2020 or 2022\n",
        "\n",
        "---\n",
        "\n",
        "\n",
        "Background knowledge:\n",
        "Transferring ETH between exchanges is far from instant.\n",
        "When sending funds, the current overall Ethereum network load and the transaction costs you are willing to pay determine how fast your transaction goes through.\n",
        "Because the receiving exchange will only allow you to trade with the received ETH once a certain number of \"confirmations\" are received, you will have to wait until several Ethereum miners confirm the transaction.\n",
        "According to [this source](https://blog.tezro.com/cryptocurrency-transaction-speeds/), in 2023, the average confirmation time for Ethereum was 6 minutes, and thus far away from instant.\n",
        "\n",
        "To circumvent this bottleneck, you have a few ideas:\n",
        "\n",
        "\n",
        "1. You decide to keep a balance of the cryptocurrency on each exchange (in addition to the (assumed) USD you keep on the exchange).\n",
        "    Which potential types of risk are you now exposed to?\n",
        "    How do (or would) funds handle these risks on stock exchanges?\n",
        "    Why or why not could this still be considered arbitrage in the classic sense?\n",
        "\n",
        "2. To get a feeling for this risk, you want to visualize the balance of your account (**in ETH**) after 14 days of trading at `2021-01-15 00:00:00` given an initial investment of USD 1,000,000 (that you use to buy ETH with), which is split equally across all exchanges (\\$333,333 deposited on each exchange).\n",
        "    No rebalancing is being done.\n",
        "    Show the information in a bar chart. The exchanges should be on the x-axis, the current balance on the y-axis. Add a horizontal line denoting the initial balance.\n",
        "    What do you notice? Interpret your results.\n",
        "    *Hint: The [cumsum method](https://pandas.pydata.org/pandas-docs/stable/reference/api/pandas.DataFrame.cumsum.html) might be useful*.\n",
        "    \n",
        "3. Your colleagues mention that the time dimension is missing.\n",
        "    They think a line chart showing the balance on each of the exchanges over the full year would give them a better overview."
      ]
    },
    {
      "cell_type": "markdown",
      "id": "8705e03e-6582-4941-a161-a15d725ad668",
      "metadata": {
        "id": "8705e03e-6582-4941-a161-a15d725ad668",
        "tags": []
      },
      "source": [
        "## Part E (Redistribution)\n",
        "\n",
        "**Assumptions**\n",
        "\n",
        "- Trades can be executed immediately (no delay)\n",
        "- No transaction costs **for trades. Withdrawal fees and transfer costs apply as specified in the task**\n",
        "- ~~Naked short sales are possible~~\n",
        "- You always have enough USD available on the exchanges for your purchases\n",
        "- No bid-ask spread, i.e. we can trade in both directions at the given price\n",
        "- No limits to arbitrage, e.g. slippage / price impact\n",
        "- Trades are only executed in 2021, i.e. you cannot trade in 2020 or 2022\n",
        "\n",
        "---\n",
        "\n",
        "We assume that you cannot sell crypto assets if you have a zero balance on an exchange (i.e. no naked short sales).\n",
        "Thus, you need to redistribute periodically in order to have enough ETH on each exchange.\n",
        "    \n",
        "    \n",
        "You decide to redistribute whenever your ETH balance on an exchange falls **below** 50 ETH.\n",
        "As in part d, you purchase ETH worth USD 1,000,000 split across the three exchanges.\n",
        "Costs are expected to be 0.01 ETH for the withdrawal and the transfer fees (per-transaction, i.e. independent of value).\n",
        "No fees are expected for deposits.\n",
        "Redistributed funds are available in the next period.\n",
        "\n",
        "You redistribute in such a way that you have the same number of ETH on each exchange (before transfer costs).\n",
        "This is to say that if you hold 0 ETH on A, 1 ETH on B and 2 ETH on C, you would want a 1 / 1 / 1 split after redistributing.\n",
        "For simplicitly, we say that we will transfer 1 ETH from C to A, paying 0.01 ETH in fees on C, such that we end up with 1 / 1 / 0.99 (If you find it easier to implement the transfer fees to be paid on the receiving exchange, feel free to do it that way). Assume that you always need 2 transactions per redistribution (i.e. no exchange is perfectly balanced).\n",
        "    \n",
        "1. In the worst case, how many minutes could you still trade before you run out of ETH to sell after the balance falls below the rebalancing threshold? No code required for this part.\n",
        "\n",
        "2. How often do you redistribute (number of redistributions in 2021) and which costs do you incur in USD (value of the crypto assets at the initiation time of the rebalancing transaction as priced at the sending exchange)?\n",
        "    *Hint: If you solve this with a loop, while you are trying to find the solution, limit the data to e.g. January to ensure faster computation.*"
      ]
    },
    {
      "cell_type": "code",
      "source": [],
      "metadata": {
        "id": "2Ur0mEXiuhfR"
      },
      "id": "2Ur0mEXiuhfR",
      "execution_count": null,
      "outputs": []
    }
  ],
  "metadata": {
    "celltoolbar": "Slideshow",
    "colab": {
      "collapsed_sections": [
        "4ea1c5ab-087f-4e20-a644-b9cf52da19fc"
      ],
      "provenance": [],
      "include_colab_link": true
    },
    "kernelspec": {
      "display_name": "Python 3 (ipykernel)",
      "language": "python",
      "name": "python3"
    },
    "language_info": {
      "codemirror_mode": {
        "name": "ipython",
        "version": 3
      },
      "file_extension": ".py",
      "mimetype": "text/x-python",
      "name": "python",
      "nbconvert_exporter": "python",
      "pygments_lexer": "ipython3",
      "version": "3.9.10"
    },
    "rise": {
      "enable_chalkboard": true,
      "height": "100%",
      "scroll": true,
      "width": "90%"
    }
  },
  "nbformat": 4,
  "nbformat_minor": 5
}